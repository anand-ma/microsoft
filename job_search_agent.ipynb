{
 "cells": [
  {
   "cell_type": "markdown",
   "id": "536e1a3f",
   "metadata": {},
   "source": [
    "⚠️ ⚠️ ⚠️  Below code is not right an attempt to user autgen agents to work with webscraping package ⚠️ "
   ]
  },
  {
   "cell_type": "code",
   "execution_count": null,
   "id": "b4c41302",
   "metadata": {},
   "outputs": [],
   "source": [
    "pip install python-dotenv"
   ]
  },
  {
   "cell_type": "code",
   "execution_count": null,
   "id": "32322b94",
   "metadata": {},
   "outputs": [],
   "source": [
    "!pip install autogen-agentchat autogen-ext openai tiktoken langgraph autogen"
   ]
  },
  {
   "cell_type": "code",
   "execution_count": null,
   "id": "c0e24eea",
   "metadata": {},
   "outputs": [],
   "source": [
    "# from autogen_agentchat.agents import AssistantAgent\n",
    "from autogen_agentchat.conditions import TextMentionTermination\n",
    "from autogen_agentchat.teams import RoundRobinGroupChat\n",
    "from autogen_agentchat.ui import Console\n",
    "from autogen_ext.models.openai import OpenAIChatCompletionClient\n",
    "from autogen import AssistantAgent, UserProxyAgent, config_list_from_json, register_function\n",
    "import autogen\n",
    "import os"
   ]
  },
  {
   "cell_type": "code",
   "execution_count": null,
   "id": "613085d6",
   "metadata": {},
   "outputs": [],
   "source": [
    "from dotenv import load_dotenv\n",
    "\n",
    "load_dotenv() \n",
    "\n",
    "model_client = OpenAIChatCompletionClient(model=\"gpt-4o-mini\")"
   ]
  },
  {
   "cell_type": "code",
   "execution_count": null,
   "id": "48a9526c",
   "metadata": {},
   "outputs": [],
   "source": [
    "import nest_asyncio\n",
    "\n",
    "# Apply nest_asyncio to resolve event loop issues\n",
    "nest_asyncio.apply()"
   ]
  },
  {
   "cell_type": "code",
   "execution_count": null,
   "id": "950603f6",
   "metadata": {},
   "outputs": [],
   "source": [
    "# Replace with your actual OpenAI API key\n",
    "OPENAI_API_KEY = os.getenv(\"OPENAI_API_KEY\")\n",
    "\n"
   ]
  },
  {
   "cell_type": "code",
   "execution_count": null,
   "id": "cd29cf81",
   "metadata": {},
   "outputs": [],
   "source": [
    "import json\n",
    "from scrapegraphai.graphs import SmartScraperMultiGraph"
   ]
  },
  {
   "cell_type": "code",
   "execution_count": null,
   "id": "8b32da18",
   "metadata": {},
   "outputs": [],
   "source": [
    "prompt=\"\"\"\n",
    "  Extract current job market insights for tech roles:\n",
    "  - Average salaries for software engineers\n",
    "  - Most in-demand programming languages\n",
    "  - Top tech companies hiring\n",
    "  - Emerging job trends in tech\n",
    "  \"\"\""
   ]
  },
  {
   "cell_type": "code",
   "execution_count": 50,
   "id": "73588944",
   "metadata": {},
   "outputs": [],
   "source": [
    "def scrape_pages(urls: list, prompt: str, model: str = \"gpt-4o-mini\") -> dict:\n",
    "    \"\"\"\n",
    "    Scrape multiple URLs using SmartScraperMultiGraph from scrapegraphai.\n",
    "    \n",
    "    Args:\n",
    "        urls (list): List of URLs to scrape.\n",
    "        prompt (str): The scraping prompt (e.g., \"Extract title and main content\").\n",
    "        model (str): LLM model to use (default: gpt-4o-mini).\n",
    "    \n",
    "    Returns:\n",
    "        dict: Scraped data for each URL.\n",
    "    \"\"\"\n",
    "    # Define configuration for ScrapegraphAI\n",
    "    graph_config_openai = {\n",
    "        \"llm\": {\n",
    "            \"api_key\": OPENAI_API_KEY,\n",
    "            \"model\": \"openai/gpt-4o-mini\",\n",
    "        },\n",
    "        \"verbose\": True,\n",
    "        \"headless\": False,\n",
    "\n",
    "    }\n",
    "        \n",
    "    # Scrape job market information from multiple sources\n",
    "    multiple_job_graph = SmartScraperMultiGraph(\n",
    "        prompt=prompt,\n",
    "        source=[\n",
    "            \"https://www.levels.fyi/\",\n",
    "            \"https://stackoverflow.com/jobs/companies\",\n",
    "            \"https://www.indeed.com/career/software-engineer\"\n",
    "        ],\n",
    "        config=graph_config_openai\n",
    "    )\n",
    "\n",
    "    # define a schema for structured output:\n",
    "    schema = {\n",
    "        \"type\": \"object\",\n",
    "        \"properties\": {\n",
    "            \"headlines\": {\"type\": \"array\", \"items\": {\"type\": \"string\"}}\n",
    "        }\n",
    "    }\n",
    "\n",
    "    multiple_job_graph.schema = schema\n",
    "    \n",
    "    # Run the scraper\n",
    "    result = multiple_job_graph.run()\n",
    "    \n",
    "    # Return the scraped data as a dictionary\n",
    "    return result\n",
    "\n"
   ]
  },
  {
   "cell_type": "code",
   "execution_count": null,
   "id": "ffeccd32",
   "metadata": {},
   "outputs": [],
   "source": [
    "# AutoGen setup\n",
    "# Load configuration (e.g., for OpenAI API)\n",
    "config_list = config_list_from_json(\n",
    "    \"OAI_CONFIG_LIST.json\",  # Ensure this file exists with your API key\n",
    "    filter_dict={\"model\": [\"gpt-4o-mini\"]},\n",
    ")\n",
    "\n",
    "# Initialize agents\n",
    "assistant = AssistantAgent(\n",
    "    name=\"ScraperAssistant\",\n",
    "    llm_config={\"config_list\": config_list},\n",
    "    system_message=\"I can scrape web pages using SmartScraperMultiGraph. Provide URLs and a prompt to extract data.\"\n",
    ")"
   ]
  },
  {
   "cell_type": "code",
   "execution_count": null,
   "id": "ca05fe89",
   "metadata": {},
   "outputs": [],
   "source": [
    "user_proxy = UserProxyAgent(\n",
    "    name=\"UserProxy\",\n",
    "    human_input_mode=\"NEVER\",\n",
    "    max_consecutive_auto_reply=5,\n",
    "    code_execution_config={\"work_dir\": \"coding\"},\n",
    ")\n"
   ]
  },
  {
   "cell_type": "code",
   "execution_count": null,
   "id": "a9dbd8d1",
   "metadata": {},
   "outputs": [],
   "source": [
    "register_function(\n",
    "    scrape_pages,\n",
    "    caller=assistant,\n",
    "    executor=user_proxy,\n",
    "    name=\"scrape_page\",\n",
    "    description=\"Scrape a web page for job listings and return content.\"\n",
    ")"
   ]
  },
  {
   "cell_type": "code",
   "execution_count": null,
   "id": "07ff02c4",
   "metadata": {},
   "outputs": [],
   "source": [
    "user_proxy.initiate_chat(\n",
    "    assistant,\n",
    "    message=\"Scrape these URLs with the prompt 'Extract jobs information from site\"\n",
    ")"
   ]
  }
 ],
 "metadata": {
  "kernelspec": {
   "display_name": "Python 3",
   "language": "python",
   "name": "python3"
  },
  "language_info": {
   "codemirror_mode": {
    "name": "ipython",
    "version": 3
   },
   "file_extension": ".py",
   "mimetype": "text/x-python",
   "name": "python",
   "nbconvert_exporter": "python",
   "pygments_lexer": "ipython3",
   "version": "3.11.11"
  }
 },
 "nbformat": 4,
 "nbformat_minor": 5
}
